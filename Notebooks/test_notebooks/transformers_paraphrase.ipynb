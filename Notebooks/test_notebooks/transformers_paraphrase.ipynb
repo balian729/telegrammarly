{
 "cells": [
  {
   "cell_type": "code",
   "execution_count": 63,
   "id": "f057b6d4-17a1-40ff-a740-520c2151d57c",
   "metadata": {},
   "outputs": [
    {
     "name": "stderr",
     "output_type": "stream",
     "text": [
      "Some weights of PegasusForConditionalGeneration were not initialized from the model checkpoint at tuner007/pegasus_paraphrase and are newly initialized: ['model.encoder.embed_positions.weight', 'model.decoder.embed_positions.weight']\n",
      "You should probably TRAIN this model on a down-stream task to be able to use it for predictions and inference.\n"
     ]
    }
   ],
   "source": [
    "# https://huggingface.co/tuner007/pegasus_paraphrase\n",
    "\n",
    "import torch\n",
    "from transformers import PegasusForConditionalGeneration, PegasusTokenizer\n",
    "\n",
    "model_name = 'tuner007/pegasus_paraphrase'\n",
    "torch_device = 'cuda' if torch.cuda.is_available() else 'cpu'\n",
    "tokenizer = PegasusTokenizer.from_pretrained(model_name)\n",
    "model = PegasusForConditionalGeneration.from_pretrained(model_name).to(torch_device)\n",
    "\n",
    "def get_response(input_text,num_return_sequences):\n",
    "  batch = tokenizer.prepare_seq2seq_batch([input_text],truncation=True,padding='longest',max_length=60, return_tensors=\"pt\").to(torch_device)\n",
    "  translated = model.generate(**batch,max_length=60,num_beams=10, num_return_sequences=num_return_sequences, temperature=1.5)\n",
    "  tgt_text = tokenizer.batch_decode(translated, skip_special_tokens=True)\n",
    "  return tgt_text"
   ]
  },
  {
   "cell_type": "code",
   "execution_count": 64,
   "id": "9e373a97-a7c6-4d0e-b16f-e7dde33f66f4",
   "metadata": {},
   "outputs": [],
   "source": [
    "paraphrase2 = [\"Jones's yard is much bigger than Smith's.\",\"My brother graduated from NIU in the early 1990s.\"]"
   ]
  },
  {
   "cell_type": "code",
   "execution_count": 66,
   "id": "8fb6fdbc-fa86-4bf1-aa48-e5d926b43509",
   "metadata": {},
   "outputs": [
    {
     "name": "stdout",
     "output_type": "stream",
     "text": [
      "[\"Jones's yard is larger than Smith's.\", \"Jones's yard is bigger than Smith's.\", \"Jones's yard is larger than Smith's yard.\", 'The yard of Jones is larger than that of Smith.', \"Jones's yard is bigger than Smith's yard.\", \"Smith's yard is smaller than Jones's.\", \"Jones's yard is much larger than Smith's.\", \"Jones' yard is larger than Smith's.\", \"Smith's yard is smaller than Jones'.\", 'The yard of Jones is bigger than that of Smith.']\n",
      "['My brother graduated from NIU.', 'My brother graduated from NIU in the early 1990s.', 'My brother graduated from NIU in the 1990s.', 'My brother graduated from NIU in the 90s.', 'In the early 1990s, my brother graduated from NIU.', 'My brother was a graduate of NIU.', 'My brother graduated from NIU in the early 90s.', 'My brother was a graduate from NIU.', \"My brother graduated from NIU in the 1990's.\", \"My brother graduated from NIU in the early 1990's.\"]\n"
     ]
    }
   ],
   "source": [
    "for i in paraphrase2:\n",
    "  a = get_response(i,10)\n",
    "  print(a)"
   ]
  },
  {
   "cell_type": "code",
   "execution_count": null,
   "id": "a03906fe-5c3e-48c5-a1a4-cfdab0b9b540",
   "metadata": {},
   "outputs": [],
   "source": []
  }
 ],
 "metadata": {
  "kernelspec": {
   "display_name": "Python 3 (ipykernel)",
   "language": "python",
   "name": "python3"
  },
  "language_info": {
   "codemirror_mode": {
    "name": "ipython",
    "version": 3
   },
   "file_extension": ".py",
   "mimetype": "text/x-python",
   "name": "python",
   "nbconvert_exporter": "python",
   "pygments_lexer": "ipython3",
   "version": "3.11.5"
  }
 },
 "nbformat": 4,
 "nbformat_minor": 5
}
