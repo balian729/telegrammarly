{
 "cells": [
  {
   "cell_type": "code",
   "execution_count": 13,
   "outputs": [
    {
     "name": "stderr",
     "output_type": "stream",
     "text": [
      "Some weights of PegasusForConditionalGeneration were not initialized from the model checkpoint at tuner007/pegasus_paraphrase and are newly initialized: ['model.decoder.embed_positions.weight', 'model.encoder.embed_positions.weight']\n",
      "You should probably TRAIN this model on a down-stream task to be able to use it for predictions and inference.\n"
     ]
    }
   ],
   "source": [
    "import torch\n",
    "from transformers import PegasusForConditionalGeneration, PegasusTokenizer\n",
    "\n",
    "model_name = 'tuner007/pegasus_paraphrase'\n",
    "torch_device = 'cuda' if torch.cuda.is_available() else 'cpu'\n",
    "tokenizer = PegasusTokenizer.from_pretrained(model_name)\n",
    "model = PegasusForConditionalGeneration.from_pretrained(model_name).to(torch_device)\n"
   ],
   "metadata": {
    "collapsed": false,
    "ExecuteTime": {
     "end_time": "2023-11-27T21:12:23.751778Z",
     "start_time": "2023-11-27T21:12:15.620701Z"
    }
   },
   "id": "e2b76279293b7ef0"
  },
  {
   "cell_type": "code",
   "execution_count": 14,
   "outputs": [],
   "source": [
    "def get_response(input_text,num_return_sequences=10):\n",
    "    # import \n",
    "    batch = tokenizer.prepare_seq2seq_batch([input_text],truncation=True,padding='longest',max_length=60, return_tensors=\"pt\").to(torch_device)\n",
    "    translated = model.generate(**batch,max_length=60,num_beams=10, num_return_sequences=num_return_sequences, temperature=1.5)\n",
    "    tgt_text = tokenizer.batch_decode(translated, skip_special_tokens=True)\n",
    "  \n",
    "    return tgt_text"
   ],
   "metadata": {
    "collapsed": false,
    "ExecuteTime": {
     "end_time": "2023-11-27T21:14:48.724954Z",
     "start_time": "2023-11-27T21:14:48.721525Z"
    }
   },
   "id": "d1849641585ce50c"
  },
  {
   "cell_type": "code",
   "execution_count": 50,
   "outputs": [],
   "source": [
    "paraphrase2 = [\"This metric can take on values from 0 to 1, inclusive.\", \"Higher scores are better, with 0 indicating no matches, and 1 indicating a perfect match.\"]"
   ],
   "metadata": {
    "collapsed": false,
    "ExecuteTime": {
     "end_time": "2023-11-27T21:40:58.295255Z",
     "start_time": "2023-11-27T21:40:58.278703Z"
    }
   },
   "id": "5ccf87b334b3d8d7"
  },
  {
   "cell_type": "code",
   "execution_count": 57,
   "outputs": [
    {
     "name": "stdout",
     "output_type": "stream",
     "text": [
      "['The metric can take values from 0 to 1.', 'The metric can take values from 0 to 1 inclusive.', 'The metric can take values from 0 to 1, inclusive.', 'It can take values from 0 to 1 inclusive.', 'Values from 0 to 1 can be taken into account.', 'It can take values from 0 to 1, inclusive.', 'This metric can take values from 0 to 1.', 'The metric can be used to take values from 0 to 1 inclusive.', 'The metric can be used to take values from 0 to 1.', 'This metric can take values from 0 to 1 inclusive.']\n",
      "['0 indicates no matches and 1 indicates a perfect match.', '0 indicates no matches, and 1 indicates a perfect match.', 'No matches and a perfect match are indicated by 0 and 1 scores, respectively.', 'There are no matches and a perfect match with higher scores.', 'There are no matches and 1 perfect match with higher scores.', '0 indicates no matches, and 1 indicates a perfect match, with higher scores.', 'A perfect match is indicated by 1 and no matches by 0.', '0 indicates no matches, and 1 indicates a perfect match, for higher scores.', 'No matches and a perfect match are shown in higher scores.', '0 indicates no matches and 1 indicates a perfect match for higher scores.']\n"
     ]
    }
   ],
   "source": [
    "i = paraphrase2[0]\n",
    "j = paraphrase2[1]\n",
    "a = get_response(i,10)\n",
    "b = get_response(j,10)\n",
    "\n",
    "print(a)\n",
    "print(b)\n"
   ],
   "metadata": {
    "collapsed": false,
    "ExecuteTime": {
     "end_time": "2023-11-27T21:45:27.881204Z",
     "start_time": "2023-11-27T21:45:23.238198Z"
    }
   },
   "id": "25bc1b466924973f"
  },
  {
   "cell_type": "code",
   "execution_count": 58,
   "outputs": [
    {
     "name": "stdout",
     "output_type": "stream",
     "text": [
      "for 0 and 0: 0.3392857142857143\n",
      "----------------------------------------------------------------------------------------------------\n",
      "for 0 and 1: 0.4107142857142857\n",
      "----------------------------------------------------------------------------------------------------\n",
      "for 0 and 2: 0.32142857142857145\n",
      "----------------------------------------------------------------------------------------------------\n",
      "for 0 and 3: 0.3125\n",
      "----------------------------------------------------------------------------------------------------\n",
      "for 0 and 4: 0.30357142857142855\n",
      "----------------------------------------------------------------------------------------------------\n",
      "for 0 and 5: 0.41964285714285715\n",
      "----------------------------------------------------------------------------------------------------\n",
      "for 0 and 6: 0.2767857142857143\n",
      "----------------------------------------------------------------------------------------------------\n",
      "for 0 and 7: 0.4017857142857143\n",
      "----------------------------------------------------------------------------------------------------\n",
      "for 0 and 8: 0.2857142857142857\n",
      "----------------------------------------------------------------------------------------------------\n",
      "for 0 and 9: 0.32142857142857145\n",
      "----------------------------------------------------------------------------------------------------\n",
      "for 1 and 0: 0.35714285714285715\n",
      "----------------------------------------------------------------------------------------------------\n",
      "for 1 and 1: 0.42857142857142855\n",
      "----------------------------------------------------------------------------------------------------\n",
      "for 1 and 2: 0.3392857142857143\n",
      "----------------------------------------------------------------------------------------------------\n",
      "for 1 and 3: 0.33035714285714285\n",
      "----------------------------------------------------------------------------------------------------\n",
      "for 1 and 4: 0.32142857142857145\n",
      "----------------------------------------------------------------------------------------------------\n",
      "for 1 and 5: 0.4375\n",
      "----------------------------------------------------------------------------------------------------\n",
      "for 1 and 6: 0.29464285714285715\n",
      "----------------------------------------------------------------------------------------------------\n",
      "for 1 and 7: 0.41964285714285715\n",
      "----------------------------------------------------------------------------------------------------\n",
      "for 1 and 8: 0.30357142857142855\n",
      "----------------------------------------------------------------------------------------------------\n",
      "for 1 and 9: 0.3392857142857143\n",
      "----------------------------------------------------------------------------------------------------\n",
      "for 2 and 0: 0.4375\n",
      "----------------------------------------------------------------------------------------------------\n",
      "for 2 and 1: 0.5089285714285714\n",
      "----------------------------------------------------------------------------------------------------\n",
      "for 2 and 2: 0.41964285714285715\n",
      "----------------------------------------------------------------------------------------------------\n",
      "for 2 and 3: 0.4107142857142857\n",
      "----------------------------------------------------------------------------------------------------\n",
      "for 2 and 4: 0.4017857142857143\n",
      "----------------------------------------------------------------------------------------------------\n",
      "for 2 and 5: 0.5178571428571429\n",
      "----------------------------------------------------------------------------------------------------\n",
      "for 2 and 6: 0.375\n",
      "----------------------------------------------------------------------------------------------------\n",
      "for 2 and 7: 0.5\n",
      "----------------------------------------------------------------------------------------------------\n",
      "for 2 and 8: 0.38392857142857145\n",
      "----------------------------------------------------------------------------------------------------\n",
      "for 2 and 9: 0.41964285714285715\n",
      "----------------------------------------------------------------------------------------------------\n",
      "for 3 and 0: 0.33035714285714285\n",
      "----------------------------------------------------------------------------------------------------\n",
      "for 3 and 1: 0.4017857142857143\n",
      "----------------------------------------------------------------------------------------------------\n",
      "for 3 and 2: 0.3125\n",
      "----------------------------------------------------------------------------------------------------\n",
      "for 3 and 3: 0.30357142857142855\n",
      "----------------------------------------------------------------------------------------------------\n",
      "for 3 and 4: 0.29464285714285715\n",
      "----------------------------------------------------------------------------------------------------\n",
      "for 3 and 5: 0.4107142857142857\n",
      "----------------------------------------------------------------------------------------------------\n",
      "for 3 and 6: 0.26785714285714285\n",
      "----------------------------------------------------------------------------------------------------\n",
      "for 3 and 7: 0.39285714285714285\n",
      "----------------------------------------------------------------------------------------------------\n",
      "for 3 and 8: 0.2767857142857143\n",
      "----------------------------------------------------------------------------------------------------\n",
      "for 3 and 9: 0.3125\n",
      "----------------------------------------------------------------------------------------------------\n",
      "for 4 and 0: 0.25892857142857145\n",
      "----------------------------------------------------------------------------------------------------\n",
      "for 4 and 1: 0.33035714285714285\n",
      "----------------------------------------------------------------------------------------------------\n",
      "for 4 and 2: 0.24107142857142858\n",
      "----------------------------------------------------------------------------------------------------\n",
      "for 4 and 3: 0.23214285714285715\n",
      "----------------------------------------------------------------------------------------------------\n",
      "for 4 and 4: 0.22321428571428573\n",
      "----------------------------------------------------------------------------------------------------\n",
      "for 4 and 5: 0.3392857142857143\n",
      "----------------------------------------------------------------------------------------------------\n",
      "for 4 and 6: 0.19642857142857142\n",
      "----------------------------------------------------------------------------------------------------\n",
      "for 4 and 7: 0.32142857142857145\n",
      "----------------------------------------------------------------------------------------------------\n",
      "for 4 and 8: 0.20535714285714285\n",
      "----------------------------------------------------------------------------------------------------\n",
      "for 4 and 9: 0.24107142857142858\n",
      "----------------------------------------------------------------------------------------------------\n",
      "for 5 and 0: 0.4107142857142857\n",
      "----------------------------------------------------------------------------------------------------\n",
      "for 5 and 1: 0.48214285714285715\n",
      "----------------------------------------------------------------------------------------------------\n",
      "for 5 and 2: 0.39285714285714285\n",
      "----------------------------------------------------------------------------------------------------\n",
      "for 5 and 3: 0.38392857142857145\n",
      "----------------------------------------------------------------------------------------------------\n",
      "for 5 and 4: 0.375\n",
      "----------------------------------------------------------------------------------------------------\n",
      "for 5 and 5: 0.49107142857142855\n",
      "----------------------------------------------------------------------------------------------------\n",
      "for 5 and 6: 0.3482142857142857\n",
      "----------------------------------------------------------------------------------------------------\n",
      "for 5 and 7: 0.4732142857142857\n",
      "----------------------------------------------------------------------------------------------------\n",
      "for 5 and 8: 0.35714285714285715\n",
      "----------------------------------------------------------------------------------------------------\n",
      "for 5 and 9: 0.39285714285714285\n",
      "----------------------------------------------------------------------------------------------------\n",
      "for 6 and 0: 0.375\n",
      "----------------------------------------------------------------------------------------------------\n",
      "for 6 and 1: 0.44642857142857145\n",
      "----------------------------------------------------------------------------------------------------\n",
      "for 6 and 2: 0.35714285714285715\n",
      "----------------------------------------------------------------------------------------------------\n",
      "for 6 and 3: 0.3482142857142857\n",
      "----------------------------------------------------------------------------------------------------\n",
      "for 6 and 4: 0.3392857142857143\n",
      "----------------------------------------------------------------------------------------------------\n",
      "for 6 and 5: 0.45535714285714285\n",
      "----------------------------------------------------------------------------------------------------\n",
      "for 6 and 6: 0.3125\n",
      "----------------------------------------------------------------------------------------------------\n",
      "for 6 and 7: 0.4375\n",
      "----------------------------------------------------------------------------------------------------\n",
      "for 6 and 8: 0.32142857142857145\n",
      "----------------------------------------------------------------------------------------------------\n",
      "for 6 and 9: 0.35714285714285715\n",
      "----------------------------------------------------------------------------------------------------\n",
      "for 7 and 0: 0.3275862068965517\n",
      "----------------------------------------------------------------------------------------------------\n",
      "for 7 and 1: 0.39655172413793105\n",
      "----------------------------------------------------------------------------------------------------\n",
      "for 7 and 2: 0.3103448275862069\n",
      "----------------------------------------------------------------------------------------------------\n",
      "for 7 and 3: 0.3017241379310345\n",
      "----------------------------------------------------------------------------------------------------\n",
      "for 7 and 4: 0.29310344827586204\n",
      "----------------------------------------------------------------------------------------------------\n",
      "for 7 and 5: 0.4051724137931034\n",
      "----------------------------------------------------------------------------------------------------\n",
      "for 7 and 6: 0.2672413793103448\n",
      "----------------------------------------------------------------------------------------------------\n",
      "for 7 and 7: 0.3879310344827586\n",
      "----------------------------------------------------------------------------------------------------\n",
      "for 7 and 8: 0.27586206896551724\n",
      "----------------------------------------------------------------------------------------------------\n",
      "for 7 and 9: 0.3103448275862069\n",
      "----------------------------------------------------------------------------------------------------\n",
      "for 8 and 0: 0.32142857142857145\n",
      "----------------------------------------------------------------------------------------------------\n",
      "for 8 and 1: 0.39285714285714285\n",
      "----------------------------------------------------------------------------------------------------\n",
      "for 8 and 2: 0.30357142857142855\n",
      "----------------------------------------------------------------------------------------------------\n",
      "for 8 and 3: 0.29464285714285715\n",
      "----------------------------------------------------------------------------------------------------\n",
      "for 8 and 4: 0.2857142857142857\n",
      "----------------------------------------------------------------------------------------------------\n",
      "for 8 and 5: 0.4017857142857143\n",
      "----------------------------------------------------------------------------------------------------\n",
      "for 8 and 6: 0.25892857142857145\n",
      "----------------------------------------------------------------------------------------------------\n",
      "for 8 and 7: 0.38392857142857145\n",
      "----------------------------------------------------------------------------------------------------\n",
      "for 8 and 8: 0.26785714285714285\n",
      "----------------------------------------------------------------------------------------------------\n",
      "for 8 and 9: 0.30357142857142855\n",
      "----------------------------------------------------------------------------------------------------\n",
      "for 9 and 0: 0.39285714285714285\n",
      "----------------------------------------------------------------------------------------------------\n",
      "for 9 and 1: 0.4642857142857143\n",
      "----------------------------------------------------------------------------------------------------\n",
      "for 9 and 2: 0.375\n",
      "----------------------------------------------------------------------------------------------------\n",
      "for 9 and 3: 0.36607142857142855\n",
      "----------------------------------------------------------------------------------------------------\n",
      "for 9 and 4: 0.35714285714285715\n",
      "----------------------------------------------------------------------------------------------------\n",
      "for 9 and 5: 0.4732142857142857\n",
      "----------------------------------------------------------------------------------------------------\n",
      "for 9 and 6: 0.33035714285714285\n",
      "----------------------------------------------------------------------------------------------------\n",
      "for 9 and 7: 0.45535714285714285\n",
      "----------------------------------------------------------------------------------------------------\n",
      "for 9 and 8: 0.3392857142857143\n",
      "----------------------------------------------------------------------------------------------------\n",
      "for 9 and 9: 0.375\n",
      "----------------------------------------------------------------------------------------------------\n"
     ]
    }
   ],
   "source": [
    "from evaluate import load\n",
    "google_bleu = load(\"google_bleu\")\n",
    "for i in range(len(a)):\n",
    "    for j in range(len(b)):\n",
    "        results = google_bleu.compute(predictions=paraphrase2, references=[a[i],b[j]])\n",
    "        print(f'for {i} and {j}: {results[\"google_bleu\"]}')\n",
    "        print('-'*100)\n",
    "# print(round(results[\"google_bleu\"], 2))\n"
   ],
   "metadata": {
    "collapsed": false,
    "ExecuteTime": {
     "end_time": "2023-11-27T21:47:33.971658Z",
     "start_time": "2023-11-27T21:47:32.116159Z"
    }
   },
   "id": "cf39e80a1ce1efd3"
  },
  {
   "cell_type": "code",
   "execution_count": 65,
   "outputs": [
    {
     "name": "stdout",
     "output_type": "stream",
     "text": [
      "same one:\n",
      " The metric can take values from 0 to 1 inclusive. 0 indicates no matches, and 1 indicates a perfect match, with higher scores.\n",
      "========AND=======\n",
      "The metric can take values from 0 to 1, inclusive. 0 indicates no matches and 1 indicates a perfect match.\n"
     ]
    }
   ],
   "source": [
    "print(\"same one:\\n\", a[1], b[5])\n",
    "print(\"========AND=======\")\n",
    "print(a[2], b[0])"
   ],
   "metadata": {
    "collapsed": false,
    "ExecuteTime": {
     "end_time": "2023-11-27T22:11:52.679078Z",
     "start_time": "2023-11-27T22:11:52.665033Z"
    }
   },
   "id": "a49f94267fb709dd"
  },
  {
   "cell_type": "code",
   "execution_count": 66,
   "outputs": [
    {
     "name": "stdout",
     "output_type": "stream",
     "text": [
      "best ones: The metric can take values from 0 to 1, inclusive. 0 indicates no matches, and 1 indicates a perfect match, with higher scores.\n"
     ]
    }
   ],
   "source": [
    "print('best ones:', a[2], b[5])"
   ],
   "metadata": {
    "collapsed": false,
    "ExecuteTime": {
     "end_time": "2023-11-27T22:11:53.603698Z",
     "start_time": "2023-11-27T22:11:53.587145Z"
    }
   },
   "id": "edb0f5dc8425cf4"
  },
  {
   "cell_type": "code",
   "execution_count": 67,
   "outputs": [
    {
     "name": "stdout",
     "output_type": "stream",
     "text": [
      "worst ones: Values from 0 to 1 can be taken into account. A perfect match is indicated by 1 and no matches by 0.\n"
     ]
    }
   ],
   "source": [
    "print('worst ones:', a[4], b[6])"
   ],
   "metadata": {
    "collapsed": false,
    "ExecuteTime": {
     "end_time": "2023-11-27T22:11:54.863543Z",
     "start_time": "2023-11-27T22:11:54.842675Z"
    }
   },
   "id": "959f72b99d0f6038"
  },
  {
   "cell_type": "raw",
   "source": [
    "Worst score of GOOGLE_BLEU for Pegasus Paraphrasing seems to be BEST PARAPHRASED SENTENCE"
   ],
   "metadata": {
    "collapsed": false
   },
   "id": "b28641387044950"
  },
  {
   "cell_type": "code",
   "execution_count": 88,
   "outputs": [],
   "source": [
    "from sentence_splitter import SentenceSplitter, split_text_into_sentences\n",
    "splitter = SentenceSplitter(language='en')\n",
    "\n",
    "from evaluate import load\n",
    "google_bleu = load(\"google_bleu\")\n",
    "\n",
    "def get_response(full_text,num_return_sequences=10):\n",
    "    every = []\n",
    "    sentence_list = splitter.split(full_text)\n",
    "    for input_text in sentence_list:\n",
    "        batch = tokenizer.prepare_seq2seq_batch([input_text],truncation=True,padding='longest',max_length=60, return_tensors=\"pt\").to(torch_device)\n",
    "        translated = model.generate(**batch,max_length=60,num_beams=10, num_return_sequences=num_return_sequences, temperature=1.5)\n",
    "        every.append(tokenizer.batch_decode(translated, skip_special_tokens=True))\n",
    "    worst = 1\n",
    "    worst_sen = ''\n",
    "    paraphrased_text = ''\n",
    "    for i in range(len(every)):\n",
    "        for k in range(len(every[i])):\n",
    "            results = google_bleu.compute(predictions=[sentence_list[i]], references=[every[i][k]])\n",
    "            if results[\"google_bleu\"] < worst:\n",
    "                worst = results[\"google_bleu\"]\n",
    "                worst_sen = every[i][k]\n",
    "        paraphrased_text += worst_sen + ' '\n",
    "        worst = 1\n",
    "        worst_sen = ''\n",
    "            \n",
    "    return paraphrased_text"
   ],
   "metadata": {
    "collapsed": false,
    "ExecuteTime": {
     "end_time": "2023-11-27T22:46:58.576402Z",
     "start_time": "2023-11-27T22:46:56.763669Z"
    }
   },
   "id": "a84f89e0aa6681fe"
  },
  {
   "cell_type": "code",
   "execution_count": 89,
   "outputs": [
    {
     "name": "stdout",
     "output_type": "stream",
     "text": [
      "Software quality assurance is a way to make sure the software is good. The set of activities make sure processes, procedures and standards are suitable for the project. Software quality assurance is related to the development of software. Improving the process of development of software is the focus of the project. Software quality assurance is an umbrella activity that is applied throughout the software process. \n",
      "----------------------------------------------------------------------------------------------------\n",
      "Execution time in sec:  15.240336894989014\n"
     ]
    }
   ],
   "source": [
    "#test time consuming on big paragraph\n",
    "a = 'Software Quality Assurance (SQA) is simply a way to assure quality in the software. It is the set of activities which ensure processes, procedures as well as standards are suitable for the project and implemented correctly. Software Quality Assurance is a process which works parallel to development of software. It focuses on improving the process of development of software so that problems can be prevented before they become a major issue. Software Quality Assurance is a kind of Umbrella activity that is applied throughout the software process.'\n",
    "\n",
    "import time\n",
    "\n",
    "start = time.time()\n",
    "print(get_response(a))\n",
    "end = time.time()\n",
    "\n",
    "print('-'*100)\n",
    "print('Execution time in sec: ', end-start)"
   ],
   "metadata": {
    "collapsed": false,
    "ExecuteTime": {
     "end_time": "2023-11-27T22:47:13.839568Z",
     "start_time": "2023-11-27T22:46:58.577562Z"
    }
   },
   "id": "725da3301dbb5a8"
  },
  {
   "cell_type": "code",
   "execution_count": null,
   "outputs": [],
   "source": [],
   "metadata": {
    "collapsed": false,
    "ExecuteTime": {
     "end_time": "2023-11-27T22:31:09.507447Z",
     "start_time": "2023-11-27T22:31:09.488073Z"
    }
   },
   "id": "7960546967280dc5"
  },
  {
   "cell_type": "code",
   "execution_count": null,
   "outputs": [],
   "source": [],
   "metadata": {
    "collapsed": false
   },
   "id": "64cf9ab68a4112e3"
  }
 ],
 "metadata": {
  "kernelspec": {
   "display_name": "Python 3",
   "language": "python",
   "name": "python3"
  },
  "language_info": {
   "codemirror_mode": {
    "name": "ipython",
    "version": 2
   },
   "file_extension": ".py",
   "mimetype": "text/x-python",
   "name": "python",
   "nbconvert_exporter": "python",
   "pygments_lexer": "ipython2",
   "version": "2.7.6"
  }
 },
 "nbformat": 4,
 "nbformat_minor": 5
}
